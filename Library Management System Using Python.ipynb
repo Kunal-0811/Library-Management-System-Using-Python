{
 "cells": [
  {
   "cell_type": "code",
   "execution_count": 17,
   "id": "9b6cee1b",
   "metadata": {},
   "outputs": [],
   "source": [
    "class Book:\n",
    "    def __init__(self, title, author, isbn): \n",
    "        self.title = title \n",
    "        self.author = author \n",
    "        self.isbn = isbn\n",
    "        self.is_available = True        \n",
    "    \n",
    "    def __str__(self): \n",
    "        return f\"Book {self.title} by the author {self.author}\"\n",
    "    \n",
    "    def check_availability(self): \n",
    "        return self.is_available\n",
    "    \n",
    "    def borrow_book(self): \n",
    "        if self.is_available == True: \n",
    "            self.is_available = False \n",
    "            return f\"Book {self.title} has been borrowed\"\n",
    "        else: \n",
    "            return f\"Book {self.title} is not available\"\n",
    "    \n",
    "    def return_book(self): \n",
    "        if self.is_available == False: \n",
    "            self.is_available = True \n",
    "            return f\"Book {self.title} has been returned\"\n",
    "        else: \n",
    "            return f\"Book was not borrowed. So can't be returned\"\n",
    "    "
   ]
  },
  {
   "cell_type": "code",
   "execution_count": 18,
   "id": "ccb8afae",
   "metadata": {},
   "outputs": [],
   "source": [
    "class User:\n",
    "    def __init__(self,name):\n",
    "        self.name=name\n",
    "\n",
    "    def __str__(self):\n",
    "        return self.name"
   ]
  },
  {
   "cell_type": "code",
   "execution_count": 19,
   "id": "06678f5f",
   "metadata": {},
   "outputs": [],
   "source": [
    "class Library:\n",
    "    def __init__(self): \n",
    "        self.books = []\n",
    "    \n",
    "    def add_book(self,book_instance): \n",
    "        self.books.append(book_instance)\n",
    "    \n",
    "    def remove_book(self, book_instance): \n",
    "        self.books.remove(book_instance)\n",
    "        \n",
    "    def display_books(self): \n",
    "        for book_instance in self.books: \n",
    "            print(str(book_instance))"
   ]
  },
  {
   "cell_type": "code",
   "execution_count": 20,
   "id": "f494e127",
   "metadata": {},
   "outputs": [
    {
     "name": "stdout",
     "output_type": "stream",
     "text": [
      "welcome to library management system\n",
      "available books are\n",
      "*******************************\n",
      "Book wings of fire by the author Dr.APJ\n",
      "Book magic of thinking big by the author David\n",
      "*******************************\n",
      "ram tries to borrow Book wings of fire by the author Dr.APJ\n",
      "Book wings of fire has been borrowed\n",
      "*******************************\n",
      "abhay tries to borrow Book wings of fire by the author Dr.APJ\n",
      "Book wings of fire is not available\n",
      "*******************************\n",
      "ram returns the book Book wings of fire by the author Dr.APJ\n",
      "*******************************\n",
      "abhay wants book Book wings of fire by the author Dr.APJ\n",
      "Book wings of fire has been borrowed\n"
     ]
    }
   ],
   "source": [
    "print(\"welcome to library management system\")\n",
    "lib = Library()\n",
    "b1 = Book(\"wings of fire\", \"Dr.APJ\", \"23-47\")\n",
    "b2 = Book(\"magic of thinking big\", \"David\", \"45-78\")\n",
    "\n",
    "lib.add_book(b1)\n",
    "lib.add_book(b2)\n",
    "\n",
    "print(\"available books are\")\n",
    "print(\"*******************************\")\n",
    "lib.display_books()\n",
    "print(\"*******************************\")\n",
    "\n",
    "u1 = User(\"ram\")\n",
    "u2 = User(\"abhay\")\n",
    "\n",
    "print(f\"{u1} tries to borrow {b1}\")\n",
    "print(b1.borrow_book())\n",
    "print(\"*******************************\")\n",
    "\n",
    "print(f\"{u2} tries to borrow {b1}\")\n",
    "print(b1.borrow_book())\n",
    "print(\"*******************************\")\n",
    "\n",
    "print(f\"{u1} returns the book {b1}\")\n",
    "b1.return_book()\n",
    "print(\"*******************************\")\n",
    "\n",
    "print(f\"{u2} wants book {b1}\")\n",
    "print(b1.borrow_book())"
   ]
  },
  {
   "cell_type": "code",
   "execution_count": null,
   "id": "71ac6fcc",
   "metadata": {},
   "outputs": [],
   "source": []
  }
 ],
 "metadata": {
  "kernelspec": {
   "display_name": "Python 3 (ipykernel)",
   "language": "python",
   "name": "python3"
  },
  "language_info": {
   "codemirror_mode": {
    "name": "ipython",
    "version": 3
   },
   "file_extension": ".py",
   "mimetype": "text/x-python",
   "name": "python",
   "nbconvert_exporter": "python",
   "pygments_lexer": "ipython3",
   "version": "3.11.4"
  }
 },
 "nbformat": 4,
 "nbformat_minor": 5
}
